{
 "cells": [
  {
   "cell_type": "markdown",
   "metadata": {},
   "source": [
    "### Bubble Sort "
   ]
  },
  {
   "cell_type": "code",
   "execution_count": 1,
   "metadata": {
    "collapsed": true
   },
   "outputs": [],
   "source": [
    "from timeit import default_timer as timer "
   ]
  },
  {
   "cell_type": "code",
   "execution_count": 2,
   "metadata": {
    "collapsed": true
   },
   "outputs": [],
   "source": [
    "data = [10,7,11,2,5,9,1,13,3,21]"
   ]
  },
  {
   "cell_type": "code",
   "execution_count": 3,
   "metadata": {
    "collapsed": true
   },
   "outputs": [],
   "source": [
    "def bubbleSort(arr):\n",
    "    start = timer()\n",
    "    for i in range(len(arr)):\n",
    "        for j in range(1,len(arr)-i):\n",
    "            if arr[j-1] > arr[j]:\n",
    "                #swap \n",
    "                arr[j-1] += arr[j]\n",
    "                arr[j] = arr[j-1]-arr[j]\n",
    "                arr[j-1] -= arr[j]\n",
    "    stop = timer()\n",
    "    print('Time taken to Sort: {}'.format((stop-start)))\n",
    "    return arr"
   ]
  },
  {
   "cell_type": "code",
   "execution_count": 4,
   "metadata": {
    "collapsed": true
   },
   "outputs": [],
   "source": [
    "def printArray(arr):\n",
    "    for i in range(len(arr)):\n",
    "        print(arr[i],end=' ')"
   ]
  },
  {
   "cell_type": "code",
   "execution_count": 5,
   "metadata": {},
   "outputs": [
    {
     "name": "stdout",
     "output_type": "stream",
     "text": [
      "Time taken to Sort: 8.451784081064683e-05\n"
     ]
    }
   ],
   "source": [
    "arr = bubbleSort(data.copy())"
   ]
  },
  {
   "cell_type": "code",
   "execution_count": 6,
   "metadata": {},
   "outputs": [
    {
     "name": "stdout",
     "output_type": "stream",
     "text": [
      "1 2 3 5 7 9 10 11 13 21 "
     ]
    }
   ],
   "source": [
    "printArray(arr)"
   ]
  },
  {
   "cell_type": "markdown",
   "metadata": {},
   "source": [
    "### Improved Version (Sensitive to already sorted array)"
   ]
  },
  {
   "cell_type": "code",
   "execution_count": 7,
   "metadata": {
    "collapsed": true
   },
   "outputs": [],
   "source": [
    "def bubbleSort1(arr):\n",
    "    start = timer()\n",
    "    flag = True\n",
    "    i =0\n",
    "    while i < len(arr) and  flag:\n",
    "        j=1\n",
    "        flag = False\n",
    "        while j < (len(arr)-i):\n",
    "            if arr[j-1] > arr[j]:\n",
    "                arr[j-1] += arr[j]\n",
    "                arr[j] = arr[j-1] - arr[j]\n",
    "                arr[j-1] -= arr[j]\n",
    "                flag = True\n",
    "            j += 1\n",
    "        i += 1\n",
    "    stop = timer()\n",
    "    execTime = stop - start\n",
    "    print('Time taken {}'.format(execTime))\n",
    "    i = 0\n",
    "    return arr"
   ]
  },
  {
   "cell_type": "code",
   "execution_count": 8,
   "metadata": {},
   "outputs": [
    {
     "name": "stdout",
     "output_type": "stream",
     "text": [
      "Time taken 9.598811920641381e-05\n"
     ]
    }
   ],
   "source": [
    "arr = bubbleSort1(data.copy())"
   ]
  },
  {
   "cell_type": "code",
   "execution_count": 9,
   "metadata": {},
   "outputs": [
    {
     "name": "stdout",
     "output_type": "stream",
     "text": [
      "1 2 3 5 7 9 10 11 13 21 "
     ]
    }
   ],
   "source": [
    "printArray(arr)"
   ]
  },
  {
   "cell_type": "code",
   "execution_count": 10,
   "metadata": {},
   "outputs": [
    {
     "name": "stdout",
     "output_type": "stream",
     "text": [
      "Time taken to Sort: 2.535535224318375e-05\n",
      "1 2 3 4 5 "
     ]
    }
   ],
   "source": [
    "d = [1,2,3,4,5]\n",
    "arr = bubbleSort(d)\n",
    "printArray(arr)"
   ]
  },
  {
   "cell_type": "code",
   "execution_count": 11,
   "metadata": {},
   "outputs": [
    {
     "name": "stdout",
     "output_type": "stream",
     "text": [
      "Time taken 9.055482943998161e-06\n",
      "1 2 3 4 5 "
     ]
    }
   ],
   "source": [
    "arr = bubbleSort1(d)\n",
    "printArray(arr)"
   ]
  }
 ],
 "metadata": {
  "kernelspec": {
   "display_name": "tensorflow",
   "language": "python",
   "name": "tensorflow"
  },
  "language_info": {
   "codemirror_mode": {
    "name": "ipython",
    "version": 3
   },
   "file_extension": ".py",
   "mimetype": "text/x-python",
   "name": "python",
   "nbconvert_exporter": "python",
   "pygments_lexer": "ipython3",
   "version": "3.5.4"
  }
 },
 "nbformat": 4,
 "nbformat_minor": 2
}

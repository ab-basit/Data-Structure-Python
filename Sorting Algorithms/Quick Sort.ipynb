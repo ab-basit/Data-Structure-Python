{
 "cells": [
  {
   "cell_type": "markdown",
   "metadata": {},
   "source": [
    "### Problem:\n",
    "### Quick Sort"
   ]
  },
  {
   "cell_type": "code",
   "execution_count": 1,
   "metadata": {
    "collapsed": true
   },
   "outputs": [],
   "source": [
    "data = [5,1,9,2,3,7,4,6,8]"
   ]
  },
  {
   "cell_type": "code",
   "execution_count": 2,
   "metadata": {
    "collapsed": true
   },
   "outputs": [],
   "source": [
    "def QuickSort(arr,left,right):\n",
    "    if left < right:\n",
    "        mid  = Partition(arr,left,right)\n",
    "        QuickSort(arr,left,mid-1)\n",
    "        QuickSort(arr,mid+1,right)"
   ]
  },
  {
   "cell_type": "code",
   "execution_count": 3,
   "metadata": {
    "collapsed": true
   },
   "outputs": [],
   "source": [
    "def Partition(arr,left,right):\n",
    "    pivot=arr[left]\n",
    "    low = left\n",
    "    left += 1\n",
    "    while left < right:\n",
    "        while arr[left] < pivot:\n",
    "            left += 1\n",
    "        while arr[right] > pivot:\n",
    "            right -= 1\n",
    "        if left < right:\n",
    "            arr[left] += arr[right]\n",
    "            arr[right] = arr[left] - arr[right]\n",
    "            arr[left] -= arr[right]\n",
    "    arr[low] = arr[right]\n",
    "    arr[right] = pivot \n",
    "    return right"
   ]
  },
  {
   "cell_type": "code",
   "execution_count": 4,
   "metadata": {},
   "outputs": [
    {
     "data": {
      "text/plain": [
       "[5, 1, 9, 2, 3, 7, 4, 6, 8]"
      ]
     },
     "execution_count": 4,
     "metadata": {},
     "output_type": "execute_result"
    }
   ],
   "source": [
    "data"
   ]
  },
  {
   "cell_type": "code",
   "execution_count": 5,
   "metadata": {},
   "outputs": [],
   "source": [
    "QuickSort(data,0,len(data)-1)"
   ]
  },
  {
   "cell_type": "code",
   "execution_count": 6,
   "metadata": {},
   "outputs": [
    {
     "data": {
      "text/plain": [
       "[1, 2, 3, 4, 5, 6, 7, 8, 9]"
      ]
     },
     "execution_count": 6,
     "metadata": {},
     "output_type": "execute_result"
    }
   ],
   "source": [
    "data"
   ]
  }
 ],
 "metadata": {
  "kernelspec": {
   "display_name": "tensorflow",
   "language": "python",
   "name": "tensorflow"
  },
  "language_info": {
   "codemirror_mode": {
    "name": "ipython",
    "version": 3
   },
   "file_extension": ".py",
   "mimetype": "text/x-python",
   "name": "python",
   "nbconvert_exporter": "python",
   "pygments_lexer": "ipython3",
   "version": "3.5.4"
  }
 },
 "nbformat": 4,
 "nbformat_minor": 2
}

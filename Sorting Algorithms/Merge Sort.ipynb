{
 "cells": [
  {
   "cell_type": "markdown",
   "metadata": {},
   "source": [
    "### Problem:\n",
    "### Merge Sort"
   ]
  },
  {
   "cell_type": "code",
   "execution_count": 1,
   "metadata": {
    "collapsed": true
   },
   "outputs": [],
   "source": [
    "data = [5,1,4,0,9,7,11,16,8,2]"
   ]
  },
  {
   "cell_type": "code",
   "execution_count": 2,
   "metadata": {
    "collapsed": true
   },
   "outputs": [],
   "source": [
    "def MergeSort(arr,temp,left,right):\n",
    "    if left < right:\n",
    "        mid = (left+right)//2\n",
    "        MergeSort(arr,temp,left,mid)\n",
    "        MergeSort(arr,temp,mid+1,right)\n",
    "        MergeArray(arr,temp,left,mid,right)"
   ]
  },
  {
   "cell_type": "code",
   "execution_count": 3,
   "metadata": {},
   "outputs": [],
   "source": [
    "\n",
    "def MergeArray(arr,temp,left,mid,right):\n",
    "    m = mid+1\n",
    "    temp_pos = left\n",
    "    while left < mid+1 and m <= right:\n",
    "        if arr[left] < arr[m]:\n",
    "            temp[temp_pos] = arr[left]\n",
    "            left += 1\n",
    "            temp_pos += 1\n",
    "        else:\n",
    "            temp[temp_pos] = arr[m]\n",
    "            temp_pos += 1\n",
    "            m += 1\n",
    "    while left <= mid:\n",
    "        temp[temp_pos] = arr[left]\n",
    "        temp_pos += 1\n",
    "        left += 1\n",
    "    while m <= right:\n",
    "        temp[temp_pos] = arr[m]\n",
    "        temp_pos += 1\n",
    "        m += 1\n",
    "    \n",
    "    for i in range(len(temp)):\n",
    "        arr[i] = temp[i]"
   ]
  },
  {
   "cell_type": "code",
   "execution_count": 4,
   "metadata": {},
   "outputs": [],
   "source": [
    "temp = data.copy()"
   ]
  },
  {
   "cell_type": "code",
   "execution_count": 5,
   "metadata": {},
   "outputs": [],
   "source": [
    "MergeSort(data,temp,0,len(data)-1)"
   ]
  },
  {
   "cell_type": "code",
   "execution_count": 6,
   "metadata": {},
   "outputs": [
    {
     "data": {
      "text/plain": [
       "[0, 1, 2, 4, 5, 7, 8, 9, 11, 16]"
      ]
     },
     "execution_count": 6,
     "metadata": {},
     "output_type": "execute_result"
    }
   ],
   "source": [
    "data"
   ]
  }
 ],
 "metadata": {
  "kernelspec": {
   "display_name": "tensorflow",
   "language": "python",
   "name": "tensorflow"
  },
  "language_info": {
   "codemirror_mode": {
    "name": "ipython",
    "version": 3
   },
   "file_extension": ".py",
   "mimetype": "text/x-python",
   "name": "python",
   "nbconvert_exporter": "python",
   "pygments_lexer": "ipython3",
   "version": "3.5.4"
  }
 },
 "nbformat": 4,
 "nbformat_minor": 2
}

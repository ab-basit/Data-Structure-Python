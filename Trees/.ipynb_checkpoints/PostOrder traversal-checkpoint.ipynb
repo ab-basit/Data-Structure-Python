{
 "cells": [
  {
   "cell_type": "code",
   "execution_count": 2,
   "metadata": {},
   "outputs": [],
   "source": [
    "import BinaryTree as bt"
   ]
  },
  {
   "cell_type": "code",
   "execution_count": 3,
   "metadata": {
    "collapsed": true
   },
   "outputs": [],
   "source": [
    "data = [i for i in range(1,16) ]"
   ]
  },
  {
   "cell_type": "code",
   "execution_count": 4,
   "metadata": {
    "collapsed": true
   },
   "outputs": [],
   "source": [
    "root = bt.CreateBinaryTree(4,data)"
   ]
  },
  {
   "cell_type": "code",
   "execution_count": 9,
   "metadata": {
    "collapsed": true
   },
   "outputs": [],
   "source": [
    "def PostOrder(root):\n",
    "    \n",
    "    if root.leftChild:\n",
    "        PostOrder(root.leftChild)\n",
    "    if root.rightChild:\n",
    "        PostOrder(root.rightChild)\n",
    "    print(root.key)"
   ]
  },
  {
   "cell_type": "code",
   "execution_count": 10,
   "metadata": {},
   "outputs": [
    {
     "name": "stdout",
     "output_type": "stream",
     "text": [
      "8\n",
      "9\n",
      "4\n",
      "10\n",
      "11\n",
      "5\n",
      "2\n",
      "12\n",
      "13\n",
      "6\n",
      "14\n",
      "15\n",
      "7\n",
      "3\n",
      "1\n"
     ]
    }
   ],
   "source": [
    "PostOrder(root)"
   ]
  },
  {
   "cell_type": "code",
   "execution_count": null,
   "metadata": {
    "collapsed": true
   },
   "outputs": [],
   "source": [
    "def PostOrderNR(root):\n",
    "    \n",
    "    while"
   ]
  }
 ],
 "metadata": {
  "kernelspec": {
   "display_name": "tensorflow",
   "language": "python",
   "name": "tensorflow"
  },
  "language_info": {
   "codemirror_mode": {
    "name": "ipython",
    "version": 3
   },
   "file_extension": ".py",
   "mimetype": "text/x-python",
   "name": "python",
   "nbconvert_exporter": "python",
   "pygments_lexer": "ipython3",
   "version": "3.5.4"
  }
 },
 "nbformat": 4,
 "nbformat_minor": 2
}

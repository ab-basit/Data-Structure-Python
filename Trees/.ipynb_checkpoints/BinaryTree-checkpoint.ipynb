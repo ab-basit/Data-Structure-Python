{
 "cells": [
  {
   "cell_type": "code",
   "execution_count": 25,
   "metadata": {
    "collapsed": true
   },
   "outputs": [],
   "source": [
    "class BinaryTree(object):\n",
    "    \n",
    "    def __init__(self,key):\n",
    "        self.key = key\n",
    "        self.leftChild = None\n",
    "        self.rightChild = None\n",
    "    \n",
    "    def insertLeftChild(self,newNode):\n",
    "        node = BinaryTree(newNode)\n",
    "        if not self.leftChild:\n",
    "            self.leftChild = node\n",
    "        else:\n",
    "            node.leftChild = self.leftChild\n",
    "            self.leftChild = node\n",
    "            \n",
    "    def insertRightChild(self,newNode):\n",
    "        node = BinaryTree(newNode)\n",
    "        if not self.rightChild:\n",
    "            self.rightChild = node\n",
    "        else:\n",
    "            node.rightChild = self.rightChild\n",
    "            self.rightChild = node\n",
    "    \n",
    "    def getLeftChild(self):\n",
    "        return self.leftChild\n",
    "    \n",
    "    def getRightChild(self):\n",
    "        return self.rightChild\n",
    "    \n",
    "    def getRoot(self):\n",
    "        return self.key\n",
    "            "
   ]
  },
  {
   "cell_type": "code",
   "execution_count": 232,
   "metadata": {},
   "outputs": [],
   "source": [
    "import math\n",
    "# create binary tree of given height and data\n",
    "def CreateBinaryTree(height,data):\n",
    "    nodes = math.pow(2,height)-1 # total number of nodes for given height: height: 1,2,3... excluding 0\n",
    "    nodes_ = math.pow(2,height-1)\n",
    "    if  len(data)-nodes_<0:\n",
    "        print('expecting more elements!\\nReduce height or increase data')\n",
    "        return\n",
    "    if len(data) > nodes:\n",
    "        print('more elements received than expected! \\nReduce elements or increase height')\n",
    "        return\n",
    "    root = BinaryTree(data.pop(0))\n",
    "    queue = [root]\n",
    "    h=1\n",
    "    while queue and h < nodes:\n",
    "        node = queue.pop(0)\n",
    "        if len(data) > 0:\n",
    "            leftNewNode = BinaryTree(data.pop(0))\n",
    "            node.leftChild = leftNewNode\n",
    "            queue.append(leftNewNode)\n",
    "        if len(data) > 0:\n",
    "            rightNewNode = BinaryTree(data.pop(0))\n",
    "            node.rightChild = rightNewNode\n",
    "            queue.append(rightNewNode)\n",
    "            h +=2\n",
    "    return root"
   ]
  },
  {
   "cell_type": "code",
   "execution_count": 233,
   "metadata": {
    "collapsed": true
   },
   "outputs": [],
   "source": [
    "def preOrder(root):\n",
    "    \n",
    "    print(root.key)\n",
    "    if root.leftChild:\n",
    "        preOrder(root.leftChild)\n",
    "    if root.rightChild:\n",
    "        preOrder(root.rightChild)"
   ]
  },
  {
   "cell_type": "code",
   "execution_count": 234,
   "metadata": {
    "collapsed": true
   },
   "outputs": [],
   "source": [
    "def inOrder(root):\n",
    "    \n",
    "    if root.leftChild:\n",
    "        inOrder(root.leftChild)\n",
    "    print(root.key)\n",
    "    if root.rightChild:\n",
    "        inOrder(root.rightChild)"
   ]
  },
  {
   "cell_type": "code",
   "execution_count": 235,
   "metadata": {
    "collapsed": true
   },
   "outputs": [],
   "source": [
    "def postOrder(root):\n",
    "    \n",
    "    if root.leftChild:\n",
    "        postOrder(root.leftChild)\n",
    "    if root.rightChild:\n",
    "        postOrder(root.rightChild)\n",
    "    print(root.key)"
   ]
  },
  {
   "cell_type": "code",
   "execution_count": 236,
   "metadata": {},
   "outputs": [],
   "source": [
    "def levelOrder(root):\n",
    "    queue =[root]\n",
    "    while queue:\n",
    "        node = queue.pop(0)\n",
    "        print(node.key)\n",
    "        if node.leftChild:\n",
    "            queue.append(node.leftChild)\n",
    "        if node.rightChild:\n",
    "            queue.append(node.rightChild)"
   ]
  },
  {
   "cell_type": "code",
   "execution_count": 238,
   "metadata": {},
   "outputs": [],
   "source": [
    "data = [1,2,3,4,5,6,7]\n",
    "root = CreateBinaryTree(3,data)"
   ]
  },
  {
   "cell_type": "code",
   "execution_count": 188,
   "metadata": {},
   "outputs": [
    {
     "name": "stdout",
     "output_type": "stream",
     "text": [
      "1\n",
      "2\n",
      "3\n"
     ]
    }
   ],
   "source": [
    "preOrder(root)"
   ]
  },
  {
   "cell_type": "code",
   "execution_count": 155,
   "metadata": {},
   "outputs": [
    {
     "name": "stdout",
     "output_type": "stream",
     "text": [
      "8\n",
      "4\n",
      "9\n",
      "2\n",
      "10\n",
      "5\n",
      "11\n",
      "1\n",
      "12\n",
      "6\n",
      "13\n",
      "3\n",
      "14\n",
      "7\n",
      "15\n"
     ]
    }
   ],
   "source": [
    "inOrder(root)"
   ]
  },
  {
   "cell_type": "code",
   "execution_count": 156,
   "metadata": {},
   "outputs": [
    {
     "name": "stdout",
     "output_type": "stream",
     "text": [
      "8\n",
      "9\n",
      "4\n",
      "10\n",
      "11\n",
      "5\n",
      "2\n",
      "12\n",
      "13\n",
      "6\n",
      "14\n",
      "15\n",
      "7\n",
      "3\n",
      "1\n"
     ]
    }
   ],
   "source": [
    "postOrder(root)"
   ]
  },
  {
   "cell_type": "code",
   "execution_count": 157,
   "metadata": {},
   "outputs": [
    {
     "name": "stdout",
     "output_type": "stream",
     "text": [
      "1\n",
      "2\n",
      "3\n",
      "4\n",
      "5\n",
      "6\n",
      "7\n",
      "8\n",
      "9\n",
      "10\n",
      "11\n",
      "12\n",
      "13\n",
      "14\n",
      "15\n"
     ]
    }
   ],
   "source": [
    "levelOrder(root)"
   ]
  },
  {
   "cell_type": "code",
   "execution_count": null,
   "metadata": {
    "collapsed": true
   },
   "outputs": [],
   "source": []
  }
 ],
 "metadata": {
  "kernelspec": {
   "display_name": "tensorflow",
   "language": "python",
   "name": "tensorflow"
  },
  "language_info": {
   "codemirror_mode": {
    "name": "ipython",
    "version": 3
   },
   "file_extension": ".py",
   "mimetype": "text/x-python",
   "name": "python",
   "nbconvert_exporter": "python",
   "pygments_lexer": "ipython3",
   "version": "3.5.4"
  }
 },
 "nbformat": 4,
 "nbformat_minor": 2
}

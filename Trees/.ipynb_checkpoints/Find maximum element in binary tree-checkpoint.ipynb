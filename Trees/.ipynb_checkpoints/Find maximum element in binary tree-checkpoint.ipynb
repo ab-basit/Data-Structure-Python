{
 "cells": [
  {
   "cell_type": "markdown",
   "metadata": {},
   "source": [
    "## Problem\n",
    "### find Maximum key of binary tree"
   ]
  },
  {
   "cell_type": "code",
   "execution_count": 1,
   "metadata": {
    "collapsed": true
   },
   "outputs": [],
   "source": [
    "import BinaryTree as bt\n",
    "import sys"
   ]
  },
  {
   "cell_type": "code",
   "execution_count": 2,
   "metadata": {
    "collapsed": true
   },
   "outputs": [],
   "source": [
    "data = [1,12,2,7,3,6,10,5,15,4,8,11,9,14,13]\n",
    "root = bt.CreateBinaryTree(4,data)"
   ]
  },
  {
   "cell_type": "markdown",
   "metadata": {},
   "source": [
    "### Approach 1\n",
    "#### Recursive"
   ]
  },
  {
   "cell_type": "code",
   "execution_count": 3,
   "metadata": {
    "collapsed": true
   },
   "outputs": [],
   "source": [
    "def MaxKey(root):\n",
    "    left,right,maxx =0,0,-sys.maxsize-1\n",
    "    if root:\n",
    "        root_val = root.key\n",
    "        left = MaxKey(root.leftChild)\n",
    "        right = MaxKey(root.rightChild)\n",
    "        if left > right:\n",
    "            if root_val > left:\n",
    "                maxx = root_val\n",
    "            else:\n",
    "                maxx = left\n",
    "        else:\n",
    "            if root_val > right:\n",
    "                maxx = root_val\n",
    "            else:\n",
    "                maxx = right\n",
    "    return maxx\n",
    "    \n",
    "    "
   ]
  },
  {
   "cell_type": "code",
   "execution_count": 4,
   "metadata": {},
   "outputs": [
    {
     "data": {
      "text/plain": [
       "15"
      ]
     },
     "execution_count": 4,
     "metadata": {},
     "output_type": "execute_result"
    }
   ],
   "source": [
    "MaxKey(root)"
   ]
  },
  {
   "cell_type": "markdown",
   "metadata": {},
   "source": [
    "### Approach 2\n",
    "#### Non-Recursive"
   ]
  },
  {
   "cell_type": "code",
   "execution_count": 5,
   "metadata": {},
   "outputs": [],
   "source": [
    "maxx = -sys.maxsize-1\n",
    "def findMaxKey(root):\n",
    "    global maxx\n",
    "    queue=[root]\n",
    "    while len(queue) != 0:\n",
    "        root = queue.pop(0)\n",
    "        if root.key > maxx:\n",
    "            maxx = root.key\n",
    "        if root.leftChild:\n",
    "            queue.append(root.leftChild)\n",
    "        if root.rightChild:\n",
    "            queue.append(root.rightChild)\n",
    "    return maxx"
   ]
  },
  {
   "cell_type": "code",
   "execution_count": 6,
   "metadata": {},
   "outputs": [
    {
     "data": {
      "text/plain": [
       "15"
      ]
     },
     "execution_count": 6,
     "metadata": {},
     "output_type": "execute_result"
    }
   ],
   "source": [
    "findMaxKey(root)"
   ]
  }
 ],
 "metadata": {
  "kernelspec": {
   "display_name": "tensorflow",
   "language": "python",
   "name": "tensorflow"
  },
  "language_info": {
   "codemirror_mode": {
    "name": "ipython",
    "version": 3
   },
   "file_extension": ".py",
   "mimetype": "text/x-python",
   "name": "python",
   "nbconvert_exporter": "python",
   "pygments_lexer": "ipython3",
   "version": "3.5.4"
  }
 },
 "nbformat": 4,
 "nbformat_minor": 2
}

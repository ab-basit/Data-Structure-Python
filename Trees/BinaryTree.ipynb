{
 "cells": [
  {
   "cell_type": "code",
   "execution_count": 1,
   "metadata": {
    "collapsed": true
   },
   "outputs": [],
   "source": [
    "class BinaryTree(object):\n",
    "    \n",
    "    def __init__(self,key):\n",
    "        self.key = key\n",
    "        self.leftChild = None\n",
    "        self.rightChild = None\n",
    "    \n",
    "    def insertLeftChild(self,newNode):\n",
    "        node = BinaryTree(newNode)\n",
    "        if not self.leftChild:\n",
    "            self.leftChild = node\n",
    "        else:\n",
    "            node.leftChild = self.leftChild\n",
    "            self.leftChild = node\n",
    "            \n",
    "    def insertRightChild(self,newNode):\n",
    "        node = BinaryTree(newNode)\n",
    "        if not self.rightChild:\n",
    "            self.rightChild = node\n",
    "        else:\n",
    "            node.rightChild = self.rightChild\n",
    "            self.rightChild = node\n",
    "    \n",
    "    def getLeftChild(self):\n",
    "        return self.leftChild\n",
    "    \n",
    "    def getRightChild(self):\n",
    "        return self.rightChild\n",
    "    \n",
    "    def getRoot(self):\n",
    "        return self.key\n",
    "            "
   ]
  },
  {
   "cell_type": "code",
   "execution_count": 2,
   "metadata": {
    "collapsed": true
   },
   "outputs": [],
   "source": [
    "import math\n",
    "# create binary tree of given height and data\n",
    "def CreateBinaryTree(height,data):\n",
    "    \"\"\"DocString\n",
    "    height : height of tree\n",
    "    data : list of data , keys of nodes\n",
    "    \n",
    "    \"\"\"\n",
    "    nodes = math.pow(2,height)-1 # total number of nodes for given height: height: 1,2,3... excluding 0\n",
    "    nodes_ = math.pow(2,height-1) # number of nodes upto level height-1\n",
    "    if  len(data)-nodes_<0:\n",
    "        print('expecting more elements!\\nReduce height or increase data')\n",
    "        return\n",
    "    if len(data) > nodes:\n",
    "        print('more elements received than expected! \\nReduce elements or increase height')\n",
    "        return\n",
    "    root = BinaryTree(data.pop(0))\n",
    "    queue = [root]\n",
    "    h=1\n",
    "    while queue and h < nodes:\n",
    "        node = queue.pop(0)\n",
    "        if len(data) > 0:\n",
    "            leftNewNode = BinaryTree(data.pop(0))\n",
    "            node.leftChild = leftNewNode\n",
    "            queue.append(leftNewNode)\n",
    "        if len(data) > 0:\n",
    "            rightNewNode = BinaryTree(data.pop(0))\n",
    "            node.rightChild = rightNewNode\n",
    "            queue.append(rightNewNode)\n",
    "            h +=2\n",
    "    return root"
   ]
  }
 ],
 "metadata": {
  "kernelspec": {
   "display_name": "tensorflow",
   "language": "python",
   "name": "tensorflow"
  },
  "language_info": {
   "codemirror_mode": {
    "name": "ipython",
    "version": 3
   },
   "file_extension": ".py",
   "mimetype": "text/x-python",
   "name": "python",
   "nbconvert_exporter": "python",
   "pygments_lexer": "ipython3",
   "version": "3.5.4"
  }
 },
 "nbformat": 4,
 "nbformat_minor": 2
}

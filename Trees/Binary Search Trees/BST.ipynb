{
 "cells": [
  {
   "cell_type": "markdown",
   "metadata": {},
   "source": [
    "## Create a BST"
   ]
  },
  {
   "cell_type": "code",
   "execution_count": 1,
   "metadata": {
    "collapsed": true
   },
   "outputs": [],
   "source": [
    "class BinarySearchTree(object):\n",
    "    \n",
    "    def __init__(self,data = None,leftChild = None,rightChild = None):\n",
    "        self.data = data\n",
    "        self.leftChild = leftChild\n",
    "        self.rightChild = rightChild"
   ]
  },
  {
   "cell_type": "markdown",
   "metadata": {},
   "source": [
    "### Utility for creating BST"
   ]
  },
  {
   "cell_type": "code",
   "execution_count": 2,
   "metadata": {
    "collapsed": true
   },
   "outputs": [],
   "source": [
    "def CreateBST(datalist):\n",
    "    #datalist = list(set(datalist))  #  first elt is root but set will sort it\n",
    "    root = BinarySearchTree(datalist.pop(0))    \n",
    "    while len(datalist) != 0:\n",
    "        auxRoot = root\n",
    "        nodeData = datalist.pop(0)\n",
    "        node = BinarySearchTree(nodeData) \n",
    "        while auxRoot:\n",
    "            if nodeData == auxRoot.data:\n",
    "                break\n",
    "            if nodeData < auxRoot.data:\n",
    "                if not auxRoot.leftChild:\n",
    "                    auxRoot.leftChild = node\n",
    "                    break\n",
    "                else:\n",
    "                    auxRoot = auxRoot.leftChild\n",
    "            else:\n",
    "                if not auxRoot.rightChild:\n",
    "                    auxRoot.rightChild = node\n",
    "                    break\n",
    "                else:\n",
    "                    auxRoot = auxRoot.rightChild\n",
    "    return root"
   ]
  },
  {
   "cell_type": "markdown",
   "metadata": {},
   "source": [
    "#### Test :\n",
    "##### inorder traversal gives sorted data"
   ]
  },
  {
   "cell_type": "code",
   "execution_count": 3,
   "metadata": {
    "collapsed": true
   },
   "outputs": [],
   "source": [
    "def inOrder(root):\n",
    "    if not root:\n",
    "        return\n",
    "    inOrder(root.leftChild)\n",
    "    print(root.data,end='\\n')\n",
    "    inOrder(root.rightChild)"
   ]
  }
 ],
 "metadata": {
  "kernelspec": {
   "display_name": "tensorflow",
   "language": "python",
   "name": "tensorflow"
  },
  "language_info": {
   "codemirror_mode": {
    "name": "ipython",
    "version": 3
   },
   "file_extension": ".py",
   "mimetype": "text/x-python",
   "name": "python",
   "nbconvert_exporter": "python",
   "pygments_lexer": "ipython3",
   "version": "3.5.4"
  }
 },
 "nbformat": 4,
 "nbformat_minor": 2
}

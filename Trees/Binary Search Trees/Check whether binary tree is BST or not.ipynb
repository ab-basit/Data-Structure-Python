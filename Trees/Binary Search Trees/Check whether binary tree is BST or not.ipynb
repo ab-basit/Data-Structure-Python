{
 "cells": [
  {
   "cell_type": "markdown",
   "metadata": {},
   "source": [
    "### Problem:\n",
    "#### Check whether the given tree is BST or not"
   ]
  },
  {
   "cell_type": "code",
   "execution_count": 1,
   "metadata": {
    "collapsed": true
   },
   "outputs": [],
   "source": [
    "import BST as bst\n",
    "import sys"
   ]
  },
  {
   "cell_type": "code",
   "execution_count": 2,
   "metadata": {
    "collapsed": true
   },
   "outputs": [],
   "source": [
    "data = [10,5,12,4,6,11,13,7,2]\n",
    "root = bst.CreateBST(data)"
   ]
  },
  {
   "cell_type": "code",
   "execution_count": 3,
   "metadata": {
    "collapsed": true
   },
   "outputs": [],
   "source": [
    "def isBST(root):\n",
    "    if not root:\n",
    "        return True\n",
    "    if  root.leftChild and findMax(root.leftChild) > root.data :\n",
    "        return False\n",
    "    if  root.rightChild and (findMin(root.rightChild) < root.data) :\n",
    "        return False\n",
    "    if  (not isBST(root.leftChild)) or  (not isBST(root.rightChild) ):\n",
    "        return Fasle\n",
    "    return True"
   ]
  },
  {
   "cell_type": "code",
   "execution_count": 4,
   "metadata": {
    "collapsed": true
   },
   "outputs": [],
   "source": [
    "#Non-Recursive Approach\n",
    "\n",
    "def findMax(root):\n",
    "    maxx = -sys.maxsize-1\n",
    "    queue = [root]\n",
    "    while len(queue) != 0:\n",
    "        node = queue.pop(0)\n",
    "        if node.data > maxx:\n",
    "            maxx = node.data\n",
    "        if node.leftChild:\n",
    "            queue.append(node.leftChild)\n",
    "        if node.rightChild:\n",
    "            queue.append(node.rightChild)\n",
    "    return maxx"
   ]
  },
  {
   "cell_type": "code",
   "execution_count": 5,
   "metadata": {
    "collapsed": true
   },
   "outputs": [],
   "source": [
    "#Recursive Approach\n",
    "def findMin(root):\n",
    "    left,right,minn = 0,0,sys.maxsize\n",
    "    if root:\n",
    "        val = root.data\n",
    "        left = findMin(root.leftChild)\n",
    "        right = findMin(root.rightChild)\n",
    "        if right < left:\n",
    "            if val < right:\n",
    "                minn = val\n",
    "            else:\n",
    "                minn = right\n",
    "        else:\n",
    "            if val < left:\n",
    "                minn = val\n",
    "            else:\n",
    "                minn = left\n",
    "    return minn"
   ]
  },
  {
   "cell_type": "code",
   "execution_count": 6,
   "metadata": {
    "collapsed": true
   },
   "outputs": [],
   "source": [
    "#Keep track of previous data\n",
    "prev = None\n",
    "def IsBST(root):\n",
    "    global prev\n",
    "    if not root:\n",
    "        return True\n",
    "    if not IsBST(root.leftChild):\n",
    "        return False\n",
    "    if prev and root.data < prev.data:\n",
    "        return False\n",
    "    prev = root\n",
    "    return IsBST(root.rightChild)"
   ]
  },
  {
   "cell_type": "code",
   "execution_count": 7,
   "metadata": {
    "scrolled": true
   },
   "outputs": [
    {
     "data": {
      "text/plain": [
       "True"
      ]
     },
     "execution_count": 7,
     "metadata": {},
     "output_type": "execute_result"
    }
   ],
   "source": [
    "isBST(root)"
   ]
  },
  {
   "cell_type": "code",
   "execution_count": 8,
   "metadata": {},
   "outputs": [
    {
     "data": {
      "text/plain": [
       "True"
      ]
     },
     "execution_count": 8,
     "metadata": {},
     "output_type": "execute_result"
    }
   ],
   "source": [
    "IsBST(root)"
   ]
  },
  {
   "cell_type": "code",
   "execution_count": 9,
   "metadata": {},
   "outputs": [
    {
     "name": "stdout",
     "output_type": "stream",
     "text": [
      "2\n",
      "4\n",
      "5\n",
      "6\n",
      "7\n",
      "10\n",
      "11\n",
      "12\n",
      "13\n"
     ]
    }
   ],
   "source": [
    "bst.inOrder(root)"
   ]
  },
  {
   "cell_type": "code",
   "execution_count": 10,
   "metadata": {
    "collapsed": true
   },
   "outputs": [],
   "source": [
    "root.leftChild.rightChild.rightChild.data = 19"
   ]
  },
  {
   "cell_type": "code",
   "execution_count": 11,
   "metadata": {},
   "outputs": [
    {
     "name": "stdout",
     "output_type": "stream",
     "text": [
      "2\n",
      "4\n",
      "5\n",
      "6\n",
      "19\n",
      "10\n",
      "11\n",
      "12\n",
      "13\n"
     ]
    }
   ],
   "source": [
    "bst.inOrder(root)"
   ]
  },
  {
   "cell_type": "code",
   "execution_count": 12,
   "metadata": {},
   "outputs": [
    {
     "data": {
      "text/plain": [
       "False"
      ]
     },
     "execution_count": 12,
     "metadata": {},
     "output_type": "execute_result"
    }
   ],
   "source": [
    "isBST(root)"
   ]
  },
  {
   "cell_type": "code",
   "execution_count": 13,
   "metadata": {},
   "outputs": [
    {
     "data": {
      "text/plain": [
       "False"
      ]
     },
     "execution_count": 13,
     "metadata": {},
     "output_type": "execute_result"
    }
   ],
   "source": [
    "IsBST(root)"
   ]
  }
 ],
 "metadata": {
  "kernelspec": {
   "display_name": "tensorflow",
   "language": "python",
   "name": "tensorflow"
  },
  "language_info": {
   "codemirror_mode": {
    "name": "ipython",
    "version": 3
   },
   "file_extension": ".py",
   "mimetype": "text/x-python",
   "name": "python",
   "nbconvert_exporter": "python",
   "pygments_lexer": "ipython3",
   "version": "3.5.4"
  }
 },
 "nbformat": 4,
 "nbformat_minor": 2
}

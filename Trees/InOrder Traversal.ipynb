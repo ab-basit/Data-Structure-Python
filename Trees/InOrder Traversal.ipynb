{
 "cells": [
  {
   "cell_type": "markdown",
   "metadata": {},
   "source": [
    "## Problem:\n",
    "### InOrder traversal of binary tree"
   ]
  },
  {
   "cell_type": "code",
   "execution_count": 1,
   "metadata": {},
   "outputs": [],
   "source": [
    "import BinaryTree as bt"
   ]
  },
  {
   "cell_type": "code",
   "execution_count": 2,
   "metadata": {
    "collapsed": true
   },
   "outputs": [],
   "source": [
    "data = [1,2,3,4,5,6,7,8,9,10,11,12,13,14,15]\n",
    "root = bt.CreateBinaryTree(4,data)"
   ]
  },
  {
   "cell_type": "markdown",
   "metadata": {},
   "source": [
    "## Approach 1\n",
    "### Recursive"
   ]
  },
  {
   "cell_type": "code",
   "execution_count": 3,
   "metadata": {
    "collapsed": true
   },
   "outputs": [],
   "source": [
    "def inOrder(root):\n",
    "    \n",
    "    if root.leftChild:\n",
    "        inOrder(root.leftChild)\n",
    "    print(root.key)\n",
    "    if root.rightChild:\n",
    "        inOrder(root.rightChild)"
   ]
  },
  {
   "cell_type": "code",
   "execution_count": 4,
   "metadata": {},
   "outputs": [
    {
     "name": "stdout",
     "output_type": "stream",
     "text": [
      "8\n",
      "4\n",
      "9\n",
      "2\n",
      "10\n",
      "5\n",
      "11\n",
      "1\n",
      "12\n",
      "6\n",
      "13\n",
      "3\n",
      "14\n",
      "7\n",
      "15\n"
     ]
    }
   ],
   "source": [
    "inOrder(root)"
   ]
  },
  {
   "cell_type": "markdown",
   "metadata": {},
   "source": [
    "## Approach 2\n",
    "### Non-Recursive"
   ]
  },
  {
   "cell_type": "code",
   "execution_count": 5,
   "metadata": {
    "collapsed": true
   },
   "outputs": [],
   "source": [
    "def inOrderNR(root):\n",
    "    stack = []\n",
    "    while True:\n",
    "        while root:\n",
    "            stack.append(root)\n",
    "            root = root.leftChild\n",
    "        if stack == []:\n",
    "            break\n",
    "        \n",
    "        print(stack[-1].key)\n",
    "        root = stack.pop()\n",
    "        root = root.rightChild"
   ]
  },
  {
   "cell_type": "code",
   "execution_count": 6,
   "metadata": {},
   "outputs": [
    {
     "name": "stdout",
     "output_type": "stream",
     "text": [
      "8\n",
      "4\n",
      "9\n",
      "2\n",
      "10\n",
      "5\n",
      "11\n",
      "1\n",
      "12\n",
      "6\n",
      "13\n",
      "3\n",
      "14\n",
      "7\n",
      "15\n"
     ]
    }
   ],
   "source": [
    "inOrderNR(root)"
   ]
  }
 ],
 "metadata": {
  "kernelspec": {
   "display_name": "tensorflow",
   "language": "python",
   "name": "tensorflow"
  },
  "language_info": {
   "codemirror_mode": {
    "name": "ipython",
    "version": 3
   },
   "file_extension": ".py",
   "mimetype": "text/x-python",
   "name": "python",
   "nbconvert_exporter": "python",
   "pygments_lexer": "ipython3",
   "version": "3.5.4"
  }
 },
 "nbformat": 4,
 "nbformat_minor": 2
}

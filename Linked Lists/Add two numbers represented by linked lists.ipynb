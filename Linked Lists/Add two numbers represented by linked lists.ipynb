{
 "cells": [
  {
   "cell_type": "markdown",
   "metadata": {},
   "source": [
    "## Problem\n",
    "## Add two numbers represented by linked lists"
   ]
  },
  {
   "cell_type": "code",
   "execution_count": 1,
   "metadata": {
    "collapsed": true
   },
   "outputs": [],
   "source": [
    "carry = 0\n",
    "def addSameSize(n1,n2):\n",
    "    global carry\n",
    "    if not n1:\n",
    "        return\n",
    "    addSameSize(n1.next,n2.next)\n",
    "    summ = n1.data + n2.data + carry\n",
    "    carry = summ // 10\n",
    "    val = summ % 10\n",
    "    push(val) "
   ]
  },
  {
   "cell_type": "code",
   "execution_count": 2,
   "metadata": {
    "collapsed": true
   },
   "outputs": [],
   "source": [
    "result = None\n",
    "def push(val):\n",
    "    global result\n",
    "    n = Node(val)\n",
    "    n.next = result\n",
    "    result = n"
   ]
  },
  {
   "cell_type": "code",
   "execution_count": 3,
   "metadata": {
    "collapsed": true
   },
   "outputs": [],
   "source": [
    "import math\n",
    "current = None\n",
    "def addDiffSize(n1,n2):\n",
    "    global current\n",
    "    n1Size = getSize(n1)\n",
    "    n2Size = getSize(n2)\n",
    "    if n1Size < n2Size:\n",
    "        temp = n1\n",
    "        n1 = n2\n",
    "        n2 = n1\n",
    "    diff = math.fabs(n1Size - n2Size)\n",
    "    current = n1\n",
    "    while diff:\n",
    "        current = current.next\n",
    "        diff -=1\n",
    "    addSameSize(current,n2)\n",
    "    propogateCarry(n1,carry)\n",
    "    if carry:\n",
    "        push(carry)"
   ]
  },
  {
   "cell_type": "code",
   "execution_count": 4,
   "metadata": {
    "collapsed": true
   },
   "outputs": [],
   "source": [
    "def propogateCarry(n1,carry):\n",
    "    if n1 != current:\n",
    "        propogateCarry(n1.next,carry)\n",
    "        summ = n1.data + carry\n",
    "        carry = summ // 10\n",
    "        val = summ % 10\n",
    "        push(val)"
   ]
  },
  {
   "cell_type": "code",
   "execution_count": 5,
   "metadata": {
    "collapsed": true
   },
   "outputs": [],
   "source": [
    "def getSize(n):\n",
    "    size =0\n",
    "    while n:\n",
    "        size +=1\n",
    "        n = n.next\n",
    "    return size"
   ]
  },
  {
   "cell_type": "code",
   "execution_count": 6,
   "metadata": {
    "collapsed": true
   },
   "outputs": [],
   "source": [
    "class Node(object):\n",
    "    \n",
    "    def __init__(self,data):\n",
    "        self.data = data\n",
    "        self.next = None"
   ]
  },
  {
   "cell_type": "code",
   "execution_count": 7,
   "metadata": {
    "collapsed": true
   },
   "outputs": [],
   "source": [
    "for i in range(1,5):\n",
    "    n = Node(i)\n",
    "    if i == 1:\n",
    "        head = n\n",
    "        tail = n\n",
    "    else:\n",
    "        tail.next = n\n",
    "        tail = n"
   ]
  },
  {
   "cell_type": "code",
   "execution_count": 8,
   "metadata": {
    "collapsed": true
   },
   "outputs": [],
   "source": [
    "for i in range(5,9):\n",
    "    n1 = Node(i)\n",
    "    if i == 5:\n",
    "        head1 = n1\n",
    "        tail1 = n1\n",
    "    else:\n",
    "        tail1.next = n1\n",
    "        tail1 = n1"
   ]
  },
  {
   "cell_type": "code",
   "execution_count": 9,
   "metadata": {
    "collapsed": true
   },
   "outputs": [],
   "source": [
    "h1 = head\n",
    "h2 = head1"
   ]
  },
  {
   "cell_type": "code",
   "execution_count": 10,
   "metadata": {
    "collapsed": true
   },
   "outputs": [],
   "source": [
    "addDiffSize(head,head1)"
   ]
  },
  {
   "cell_type": "code",
   "execution_count": 11,
   "metadata": {},
   "outputs": [
    {
     "name": "stdout",
     "output_type": "stream",
     "text": [
      "L.List 1 : 1-->2-->3-->4-->\n",
      "L.List 2 : 5-->6-->7-->8-->\n",
      "Result   : 6-->9-->1-->2-->"
     ]
    }
   ],
   "source": [
    "print ('L.List 1',end =' : ')\n",
    "while h1:\n",
    "    print(h1.data,end = '-->')\n",
    "    h1 = h1.next\n",
    "print ('\\nL.List 2',end =' : ')\n",
    "while h2:\n",
    "    print(h2.data,end = '-->')\n",
    "    h2 = h2.next\n",
    "print('\\nResult ',end='  : ')\n",
    "while result:\n",
    "    print(result.data,end='-->')\n",
    "    result = result.next"
   ]
  }
 ],
 "metadata": {
  "kernelspec": {
   "display_name": "tensorflow",
   "language": "python",
   "name": "tensorflow"
  },
  "language_info": {
   "codemirror_mode": {
    "name": "ipython",
    "version": 3
   },
   "file_extension": ".py",
   "mimetype": "text/x-python",
   "name": "python",
   "nbconvert_exporter": "python",
   "pygments_lexer": "ipython3",
   "version": "3.5.4"
  }
 },
 "nbformat": 4,
 "nbformat_minor": 2
}

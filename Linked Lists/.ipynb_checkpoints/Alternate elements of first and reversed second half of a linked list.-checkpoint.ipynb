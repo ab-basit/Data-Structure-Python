{
 "cells": [
  {
   "cell_type": "markdown",
   "metadata": {},
   "source": [
    "### Problem:\n",
    "#### Print alternate elements of first and reversed second half of a linked list.\n",
    "#### e.g  1->2->3->4->5    =>  1->5->2->4->3"
   ]
  },
  {
   "cell_type": "code",
   "execution_count": 1,
   "metadata": {
    "collapsed": true
   },
   "outputs": [],
   "source": [
    "class Node(object):\n",
    "    \n",
    "    def __init__(self,data):\n",
    "        self.data = data\n",
    "        self.next =None"
   ]
  },
  {
   "cell_type": "code",
   "execution_count": 2,
   "metadata": {
    "collapsed": true
   },
   "outputs": [],
   "source": [
    "def findMiddle(head):\n",
    "    slow = head\n",
    "    fast = head\n",
    "    x=0\n",
    "    while(fast):\n",
    "        if not x:\n",
    "            fast = fast.next\n",
    "            x=1\n",
    "        else:\n",
    "            slow = slow.next\n",
    "            fast = fast.next\n",
    "            x=0\n",
    "    return slow"
   ]
  },
  {
   "cell_type": "code",
   "execution_count": 3,
   "metadata": {
    "collapsed": true
   },
   "outputs": [],
   "source": [
    "def reverse(head):\n",
    "    prev = None\n",
    "    while(head):\n",
    "        newNode = head.next\n",
    "        head.next = prev\n",
    "        prev = head\n",
    "        head = newNode\n",
    "    return prev"
   ]
  },
  {
   "cell_type": "code",
   "execution_count": 4,
   "metadata": {},
   "outputs": [],
   "source": [
    "def alternate(h1,h2):\n",
    "    n = Node(0)\n",
    "    result = n\n",
    "    while h1 and h2:\n",
    "        n.next = h1\n",
    "        h1 = h1.next\n",
    "        n = n.next\n",
    "        n.next = h2\n",
    "        h2 = h2.next\n",
    "        n = n.next\n",
    "    if not h1:\n",
    "        n.next = h2\n",
    "    if not h2:\n",
    "        n.next = h1\n",
    "    return result.next"
   ]
  },
  {
   "cell_type": "code",
   "execution_count": 5,
   "metadata": {
    "collapsed": true
   },
   "outputs": [],
   "source": [
    "for i in range(1,20):\n",
    "    n = Node(i)\n",
    "    if i == 1:\n",
    "        head = n\n",
    "        tail = n\n",
    "    else:\n",
    "        tail.next = n\n",
    "        tail = n"
   ]
  },
  {
   "cell_type": "code",
   "execution_count": 6,
   "metadata": {
    "collapsed": true
   },
   "outputs": [],
   "source": [
    "h = head"
   ]
  },
  {
   "cell_type": "code",
   "execution_count": 7,
   "metadata": {},
   "outputs": [
    {
     "name": "stdout",
     "output_type": "stream",
     "text": [
      "1-->2-->3-->4-->5-->6-->7-->8-->9-->10-->11-->12-->13-->14-->15-->16-->17-->18-->19-->"
     ]
    }
   ],
   "source": [
    "while head:\n",
    "    print(head.data,end='-->')\n",
    "    head = head.next\n"
   ]
  },
  {
   "cell_type": "code",
   "execution_count": 8,
   "metadata": {
    "collapsed": true
   },
   "outputs": [],
   "source": [
    "middle = findMiddle(h)"
   ]
  },
  {
   "cell_type": "code",
   "execution_count": 9,
   "metadata": {},
   "outputs": [],
   "source": [
    "secondHalf = middle.next;\n",
    "middle.next = None\n",
    "secondHalfReversed = reverse(secondHalf)"
   ]
  },
  {
   "cell_type": "code",
   "execution_count": 10,
   "metadata": {
    "collapsed": true
   },
   "outputs": [],
   "source": [
    "x = secondHalfReversed"
   ]
  },
  {
   "cell_type": "code",
   "execution_count": 11,
   "metadata": {},
   "outputs": [
    {
     "name": "stdout",
     "output_type": "stream",
     "text": [
      "19-->18-->17-->16-->15-->14-->13-->12-->11-->"
     ]
    }
   ],
   "source": [
    "while x:\n",
    "    print(x.data,end='-->')\n",
    "    x = x.next"
   ]
  },
  {
   "cell_type": "code",
   "execution_count": 12,
   "metadata": {
    "collapsed": true
   },
   "outputs": [],
   "source": [
    "# def size(head):\n",
    "#     count = 0\n",
    "#     while head:\n",
    "#         count +=1\n",
    "#         head = head.next\n",
    "#     return count"
   ]
  },
  {
   "cell_type": "code",
   "execution_count": 13,
   "metadata": {
    "collapsed": true
   },
   "outputs": [],
   "source": [
    "firsthalf = h"
   ]
  },
  {
   "cell_type": "code",
   "execution_count": 14,
   "metadata": {},
   "outputs": [
    {
     "name": "stdout",
     "output_type": "stream",
     "text": [
      "1-->2-->3-->4-->5-->6-->7-->8-->9-->10-->"
     ]
    }
   ],
   "source": [
    "while h:\n",
    "    print(h.data,end='-->')\n",
    "    h = h.next"
   ]
  },
  {
   "cell_type": "code",
   "execution_count": 15,
   "metadata": {},
   "outputs": [],
   "source": [
    "result = alternate(firsthalf,secondHalfReversed)"
   ]
  },
  {
   "cell_type": "code",
   "execution_count": 16,
   "metadata": {},
   "outputs": [
    {
     "name": "stdout",
     "output_type": "stream",
     "text": [
      "1-->19-->2-->18-->3-->17-->4-->16-->5-->15-->6-->14-->7-->13-->8-->12-->9-->11-->10-->"
     ]
    }
   ],
   "source": [
    "while result:\n",
    "    print(result.data,end = '-->')\n",
    "    result = result.next"
   ]
  }
 ],
 "metadata": {
  "kernelspec": {
   "display_name": "tensorflow",
   "language": "python",
   "name": "tensorflow"
  },
  "language_info": {
   "codemirror_mode": {
    "name": "ipython",
    "version": 3
   },
   "file_extension": ".py",
   "mimetype": "text/x-python",
   "name": "python",
   "nbconvert_exporter": "python",
   "pygments_lexer": "ipython3",
   "version": "3.5.4"
  }
 },
 "nbformat": 4,
 "nbformat_minor": 2
}

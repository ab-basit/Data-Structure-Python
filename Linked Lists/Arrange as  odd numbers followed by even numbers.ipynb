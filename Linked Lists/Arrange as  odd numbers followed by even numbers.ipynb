{
 "cells": [
  {
   "cell_type": "code",
   "execution_count": 1,
   "metadata": {
    "collapsed": true
   },
   "outputs": [],
   "source": [
    "class Node(object):\n",
    "    \n",
    "    def __init__(self,data):\n",
    "        self.data = data\n",
    "        self.next = None"
   ]
  },
  {
   "cell_type": "code",
   "execution_count": 18,
   "metadata": {},
   "outputs": [],
   "source": [
    "def sort(n):\n",
    "    ptr = None\n",
    "    while(n):\n",
    "        if n.data%2 == 0 and  not ptr:\n",
    "            ptr = n\n",
    "        elif n.data%2 == 1 and ptr:\n",
    "            temp = ptr.data\n",
    "            ptr.data = n.data \n",
    "            n.data = temp\n",
    "            ptr = ptr.next\n",
    "        n = n.next"
   ]
  },
  {
   "cell_type": "code",
   "execution_count": 19,
   "metadata": {},
   "outputs": [],
   "source": [
    "for i in range(1,11):\n",
    "    x = Node(i)\n",
    "    if i == 1:\n",
    "        head = tail= x\n",
    "    else:\n",
    "        tail.next = x\n",
    "        tail = x"
   ]
  },
  {
   "cell_type": "code",
   "execution_count": 20,
   "metadata": {
    "collapsed": true
   },
   "outputs": [],
   "source": [
    "y = head"
   ]
  },
  {
   "cell_type": "code",
   "execution_count": 21,
   "metadata": {},
   "outputs": [],
   "source": [
    "sort(y)"
   ]
  },
  {
   "cell_type": "code",
   "execution_count": 22,
   "metadata": {},
   "outputs": [
    {
     "name": "stdout",
     "output_type": "stream",
     "text": [
      "1-->3-->5-->7-->9-->6-->4-->8-->2-->10-->"
     ]
    }
   ],
   "source": [
    "while head:\n",
    "    print(head.data, end = \"-->\")\n",
    "    head = head.next"
   ]
  }
 ],
 "metadata": {
  "kernelspec": {
   "display_name": "tensorflow",
   "language": "python",
   "name": "tensorflow"
  },
  "language_info": {
   "codemirror_mode": {
    "name": "ipython",
    "version": 3
   },
   "file_extension": ".py",
   "mimetype": "text/x-python",
   "name": "python",
   "nbconvert_exporter": "python",
   "pygments_lexer": "ipython3",
   "version": "3.5.4"
  }
 },
 "nbformat": 4,
 "nbformat_minor": 2
}

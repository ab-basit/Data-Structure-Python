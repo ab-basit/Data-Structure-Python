{
 "cells": [
  {
   "cell_type": "code",
   "execution_count": 1,
   "metadata": {
    "collapsed": true
   },
   "outputs": [],
   "source": [
    "class Node(object):\n",
    "    \n",
    "    def __init__(self,data):\n",
    "        self.data = data\n",
    "        self.next =None"
   ]
  },
  {
   "cell_type": "code",
   "execution_count": 2,
   "metadata": {},
   "outputs": [],
   "source": [
    "def alternateNodes(h1,h2):\n",
    "    n = Node(0)\n",
    "    result = n\n",
    "    while h1 and h2:\n",
    "        n.next = h1\n",
    "        n = n.next\n",
    "        h1 = h1.next\n",
    "        n.next = h2\n",
    "        n = n.next\n",
    "        h2 = h2.next\n",
    "    if not h1:\n",
    "        n.next = h2\n",
    "    if not h2:\n",
    "        n.next = h1\n",
    "    return result.next"
   ]
  },
  {
   "cell_type": "code",
   "execution_count": 3,
   "metadata": {
    "collapsed": true
   },
   "outputs": [],
   "source": [
    "for i in range(1,10):\n",
    "    n = Node(i)\n",
    "    if i == 1:\n",
    "        head = n\n",
    "        tail = n\n",
    "    else:\n",
    "        tail.next = n\n",
    "        tail = n"
   ]
  },
  {
   "cell_type": "code",
   "execution_count": 4,
   "metadata": {
    "collapsed": true
   },
   "outputs": [],
   "source": [
    "for i in range(11,25):\n",
    "    n1 = Node(i)\n",
    "    if i == 11:\n",
    "        head1 = n1\n",
    "        tail1 = n1\n",
    "    else:\n",
    "        tail1.next = n1\n",
    "        tail1 = n1"
   ]
  },
  {
   "cell_type": "code",
   "execution_count": 5,
   "metadata": {},
   "outputs": [],
   "source": [
    "h = head\n",
    "h1 = head1"
   ]
  },
  {
   "cell_type": "code",
   "execution_count": 6,
   "metadata": {},
   "outputs": [
    {
     "name": "stdout",
     "output_type": "stream",
     "text": [
      "1-->2-->3-->4-->5-->6-->7-->8-->9-->"
     ]
    }
   ],
   "source": [
    "while head:\n",
    "    print(head.data,end='-->')\n",
    "    head = head.next\n"
   ]
  },
  {
   "cell_type": "code",
   "execution_count": 7,
   "metadata": {},
   "outputs": [
    {
     "name": "stdout",
     "output_type": "stream",
     "text": [
      "11-->12-->13-->14-->15-->16-->17-->18-->19-->20-->21-->22-->23-->24-->"
     ]
    }
   ],
   "source": [
    "while head1:\n",
    "    print(head1.data,end='-->')\n",
    "    head1 = head1.next\n"
   ]
  },
  {
   "cell_type": "code",
   "execution_count": 8,
   "metadata": {
    "collapsed": true
   },
   "outputs": [],
   "source": [
    "result = alternateNodes(h,h1)"
   ]
  },
  {
   "cell_type": "code",
   "execution_count": 9,
   "metadata": {},
   "outputs": [
    {
     "name": "stdout",
     "output_type": "stream",
     "text": [
      "1-->11-->2-->12-->3-->13-->4-->14-->5-->15-->6-->16-->7-->17-->8-->18-->9-->19-->20-->21-->22-->23-->24-->"
     ]
    }
   ],
   "source": [
    "while result:\n",
    "    print(result.data,end='-->')\n",
    "    result = result.next"
   ]
  }
 ],
 "metadata": {
  "kernelspec": {
   "display_name": "tensorflow",
   "language": "python",
   "name": "tensorflow"
  },
  "language_info": {
   "codemirror_mode": {
    "name": "ipython",
    "version": 3
   },
   "file_extension": ".py",
   "mimetype": "text/x-python",
   "name": "python",
   "nbconvert_exporter": "python",
   "pygments_lexer": "ipython3",
   "version": "3.5.4"
  }
 },
 "nbformat": 4,
 "nbformat_minor": 2
}
